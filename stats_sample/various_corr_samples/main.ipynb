{
 "metadata": {
  "language_info": {
   "codemirror_mode": {
    "name": "ipython",
    "version": 3
   },
   "file_extension": ".py",
   "mimetype": "text/x-python",
   "name": "python",
   "nbconvert_exporter": "python",
   "pygments_lexer": "ipython3",
   "version": "3.8.5"
  },
  "orig_nbformat": 2,
  "kernelspec": {
   "name": "python385jvsc74a57bd0e47664dab37355857d58ec29513492f53a294cb5e9a32075fd110bf6e862dd2a",
   "display_name": "Python 3.8.5 64-bit"
  }
 },
 "nbformat": 4,
 "nbformat_minor": 2,
 "cells": [
  {
   "cell_type": "code",
   "execution_count": 1,
   "metadata": {},
   "outputs": [],
   "source": [
    "import pandas as pd"
   ]
  },
  {
   "cell_type": "code",
   "execution_count": 2,
   "metadata": {},
   "outputs": [
    {
     "output_type": "execute_result",
     "data": {
      "text/plain": [
       "(800, 13)"
      ]
     },
     "metadata": {},
     "execution_count": 2
    }
   ],
   "source": [
    "df = pd.read_csv(\".data/Pokemon.csv\")\n",
    "df.shape"
   ]
  },
  {
   "cell_type": "code",
   "execution_count": 3,
   "metadata": {},
   "outputs": [],
   "source": [
    "df.set_index('Name', inplace=True)"
   ]
  },
  {
   "cell_type": "code",
   "execution_count": 4,
   "metadata": {},
   "outputs": [
    {
     "output_type": "execute_result",
     "data": {
      "text/plain": [
       "                         #   Type 1  Type 2  Total  HP  Attack  Defense  \\\n",
       "Name                                                                      \n",
       "Bulbasaur                1    Grass  Poison    318  45      49       49   \n",
       "Ivysaur                  2    Grass  Poison    405  60      62       63   \n",
       "Venusaur                 3    Grass  Poison    525  80      82       83   \n",
       "VenusaurMega Venusaur    3    Grass  Poison    625  80     100      123   \n",
       "Charmander               4     Fire     NaN    309  39      52       43   \n",
       "...                    ...      ...     ...    ...  ..     ...      ...   \n",
       "Diancie                719     Rock   Fairy    600  50     100      150   \n",
       "DiancieMega Diancie    719     Rock   Fairy    700  50     160      110   \n",
       "HoopaHoopa Confined    720  Psychic   Ghost    600  80     110       60   \n",
       "HoopaHoopa Unbound     720  Psychic    Dark    680  80     160       60   \n",
       "Volcanion              721     Fire   Water    600  80     110      120   \n",
       "\n",
       "                       Sp. Atk  Sp. Def  Speed  Generation  Legendary  \n",
       "Name                                                                   \n",
       "Bulbasaur                   65       65     45           1      False  \n",
       "Ivysaur                     80       80     60           1      False  \n",
       "Venusaur                   100      100     80           1      False  \n",
       "VenusaurMega Venusaur      122      120     80           1      False  \n",
       "Charmander                  60       50     65           1      False  \n",
       "...                        ...      ...    ...         ...        ...  \n",
       "Diancie                    100      150     50           6       True  \n",
       "DiancieMega Diancie        160      110    110           6       True  \n",
       "HoopaHoopa Confined        150      130     70           6       True  \n",
       "HoopaHoopa Unbound         170      130     80           6       True  \n",
       "Volcanion                  130       90     70           6       True  \n",
       "\n",
       "[800 rows x 12 columns]"
      ],
      "text/html": "<div>\n<style scoped>\n    .dataframe tbody tr th:only-of-type {\n        vertical-align: middle;\n    }\n\n    .dataframe tbody tr th {\n        vertical-align: top;\n    }\n\n    .dataframe thead th {\n        text-align: right;\n    }\n</style>\n<table border=\"1\" class=\"dataframe\">\n  <thead>\n    <tr style=\"text-align: right;\">\n      <th></th>\n      <th>#</th>\n      <th>Type 1</th>\n      <th>Type 2</th>\n      <th>Total</th>\n      <th>HP</th>\n      <th>Attack</th>\n      <th>Defense</th>\n      <th>Sp. Atk</th>\n      <th>Sp. Def</th>\n      <th>Speed</th>\n      <th>Generation</th>\n      <th>Legendary</th>\n    </tr>\n    <tr>\n      <th>Name</th>\n      <th></th>\n      <th></th>\n      <th></th>\n      <th></th>\n      <th></th>\n      <th></th>\n      <th></th>\n      <th></th>\n      <th></th>\n      <th></th>\n      <th></th>\n      <th></th>\n    </tr>\n  </thead>\n  <tbody>\n    <tr>\n      <th>Bulbasaur</th>\n      <td>1</td>\n      <td>Grass</td>\n      <td>Poison</td>\n      <td>318</td>\n      <td>45</td>\n      <td>49</td>\n      <td>49</td>\n      <td>65</td>\n      <td>65</td>\n      <td>45</td>\n      <td>1</td>\n      <td>False</td>\n    </tr>\n    <tr>\n      <th>Ivysaur</th>\n      <td>2</td>\n      <td>Grass</td>\n      <td>Poison</td>\n      <td>405</td>\n      <td>60</td>\n      <td>62</td>\n      <td>63</td>\n      <td>80</td>\n      <td>80</td>\n      <td>60</td>\n      <td>1</td>\n      <td>False</td>\n    </tr>\n    <tr>\n      <th>Venusaur</th>\n      <td>3</td>\n      <td>Grass</td>\n      <td>Poison</td>\n      <td>525</td>\n      <td>80</td>\n      <td>82</td>\n      <td>83</td>\n      <td>100</td>\n      <td>100</td>\n      <td>80</td>\n      <td>1</td>\n      <td>False</td>\n    </tr>\n    <tr>\n      <th>VenusaurMega Venusaur</th>\n      <td>3</td>\n      <td>Grass</td>\n      <td>Poison</td>\n      <td>625</td>\n      <td>80</td>\n      <td>100</td>\n      <td>123</td>\n      <td>122</td>\n      <td>120</td>\n      <td>80</td>\n      <td>1</td>\n      <td>False</td>\n    </tr>\n    <tr>\n      <th>Charmander</th>\n      <td>4</td>\n      <td>Fire</td>\n      <td>NaN</td>\n      <td>309</td>\n      <td>39</td>\n      <td>52</td>\n      <td>43</td>\n      <td>60</td>\n      <td>50</td>\n      <td>65</td>\n      <td>1</td>\n      <td>False</td>\n    </tr>\n    <tr>\n      <th>...</th>\n      <td>...</td>\n      <td>...</td>\n      <td>...</td>\n      <td>...</td>\n      <td>...</td>\n      <td>...</td>\n      <td>...</td>\n      <td>...</td>\n      <td>...</td>\n      <td>...</td>\n      <td>...</td>\n      <td>...</td>\n    </tr>\n    <tr>\n      <th>Diancie</th>\n      <td>719</td>\n      <td>Rock</td>\n      <td>Fairy</td>\n      <td>600</td>\n      <td>50</td>\n      <td>100</td>\n      <td>150</td>\n      <td>100</td>\n      <td>150</td>\n      <td>50</td>\n      <td>6</td>\n      <td>True</td>\n    </tr>\n    <tr>\n      <th>DiancieMega Diancie</th>\n      <td>719</td>\n      <td>Rock</td>\n      <td>Fairy</td>\n      <td>700</td>\n      <td>50</td>\n      <td>160</td>\n      <td>110</td>\n      <td>160</td>\n      <td>110</td>\n      <td>110</td>\n      <td>6</td>\n      <td>True</td>\n    </tr>\n    <tr>\n      <th>HoopaHoopa Confined</th>\n      <td>720</td>\n      <td>Psychic</td>\n      <td>Ghost</td>\n      <td>600</td>\n      <td>80</td>\n      <td>110</td>\n      <td>60</td>\n      <td>150</td>\n      <td>130</td>\n      <td>70</td>\n      <td>6</td>\n      <td>True</td>\n    </tr>\n    <tr>\n      <th>HoopaHoopa Unbound</th>\n      <td>720</td>\n      <td>Psychic</td>\n      <td>Dark</td>\n      <td>680</td>\n      <td>80</td>\n      <td>160</td>\n      <td>60</td>\n      <td>170</td>\n      <td>130</td>\n      <td>80</td>\n      <td>6</td>\n      <td>True</td>\n    </tr>\n    <tr>\n      <th>Volcanion</th>\n      <td>721</td>\n      <td>Fire</td>\n      <td>Water</td>\n      <td>600</td>\n      <td>80</td>\n      <td>110</td>\n      <td>120</td>\n      <td>130</td>\n      <td>90</td>\n      <td>70</td>\n      <td>6</td>\n      <td>True</td>\n    </tr>\n  </tbody>\n</table>\n<p>800 rows × 12 columns</p>\n</div>"
     },
     "metadata": {},
     "execution_count": 4
    }
   ],
   "source": [
    "df"
   ]
  },
  {
   "cell_type": "code",
   "execution_count": 5,
   "metadata": {},
   "outputs": [
    {
     "output_type": "execute_result",
     "data": {
      "text/plain": [
       "              HP    Attack     Speed\n",
       "HP      1.000000  0.422386  0.175952\n",
       "Attack  0.422386  1.000000  0.381240\n",
       "Speed   0.175952  0.381240  1.000000"
      ],
      "text/html": "<div>\n<style scoped>\n    .dataframe tbody tr th:only-of-type {\n        vertical-align: middle;\n    }\n\n    .dataframe tbody tr th {\n        vertical-align: top;\n    }\n\n    .dataframe thead th {\n        text-align: right;\n    }\n</style>\n<table border=\"1\" class=\"dataframe\">\n  <thead>\n    <tr style=\"text-align: right;\">\n      <th></th>\n      <th>HP</th>\n      <th>Attack</th>\n      <th>Speed</th>\n    </tr>\n  </thead>\n  <tbody>\n    <tr>\n      <th>HP</th>\n      <td>1.000000</td>\n      <td>0.422386</td>\n      <td>0.175952</td>\n    </tr>\n    <tr>\n      <th>Attack</th>\n      <td>0.422386</td>\n      <td>1.000000</td>\n      <td>0.381240</td>\n    </tr>\n    <tr>\n      <th>Speed</th>\n      <td>0.175952</td>\n      <td>0.381240</td>\n      <td>1.000000</td>\n    </tr>\n  </tbody>\n</table>\n</div>"
     },
     "metadata": {},
     "execution_count": 5
    }
   ],
   "source": [
    "df[[\"HP\", \"Attack\", \"Speed\"]].corr()"
   ]
  },
  {
   "cell_type": "code",
   "execution_count": 6,
   "metadata": {},
   "outputs": [],
   "source": [
    "def correlation_ratio(category_col: str, numerical_col: str, data: pd.DataFrame) -> float:\n",
    "    x_cat = data[category_col]\n",
    "    x_num = data[numerical_col]\n",
    "\n",
    "    m_num = x_num.mean()\n",
    "    all_variance = ((x_num-m_num)**2).sum()\n",
    "\n",
    "    categories = x_cat.unique()\n",
    "    categorical_num = [x_num[x_cat==category] for category in categories]\n",
    "    categorical_var = [x.shape[0]*(x.mean()-m_num)**2 for x in categorical_num]\n",
    "\n",
    "    r = sum(categorical_var) / all_variance\n",
    "    return r"
   ]
  },
  {
   "cell_type": "code",
   "execution_count": 7,
   "metadata": {},
   "outputs": [],
   "source": [
    "results = []\n",
    "category_cols = [\"Generation\"]\n",
    "numerical_cols = [\"HP\", \"Speed\"]\n",
    "for category_col in category_cols:\n",
    "    result = []\n",
    "    for numerical_col in numerical_cols:\n",
    "        r = correlation_ratio(category_col, numerical_col, df)\n",
    "        result.append(r)\n",
    "    results.append(result)\n",
    "result_df = pd.DataFrame(results, index=category_cols, columns=numerical_cols)"
   ]
  },
  {
   "cell_type": "code",
   "execution_count": 8,
   "metadata": {},
   "outputs": [
    {
     "output_type": "execute_result",
     "data": {
      "text/plain": [
       "                  HP     Speed\n",
       "Generation  0.012383  0.013666"
      ],
      "text/html": "<div>\n<style scoped>\n    .dataframe tbody tr th:only-of-type {\n        vertical-align: middle;\n    }\n\n    .dataframe tbody tr th {\n        vertical-align: top;\n    }\n\n    .dataframe thead th {\n        text-align: right;\n    }\n</style>\n<table border=\"1\" class=\"dataframe\">\n  <thead>\n    <tr style=\"text-align: right;\">\n      <th></th>\n      <th>HP</th>\n      <th>Speed</th>\n    </tr>\n  </thead>\n  <tbody>\n    <tr>\n      <th>Generation</th>\n      <td>0.012383</td>\n      <td>0.013666</td>\n    </tr>\n  </tbody>\n</table>\n</div>"
     },
     "metadata": {},
     "execution_count": 8
    }
   ],
   "source": [
    "result_df"
   ]
  },
  {
   "cell_type": "code",
   "execution_count": 9,
   "metadata": {},
   "outputs": [],
   "source": [
    "import numpy as np\n",
    "import scipy.stats as st"
   ]
  },
  {
   "cell_type": "code",
   "execution_count": 10,
   "metadata": {},
   "outputs": [],
   "source": [
    "def cramerV(col1: str, col2: str, data: pd.DataFrame) -> float:\n",
    "    confusion_matrix = pd.crosstab(data[col1], data[col2])\n",
    "    x2, p, dof, e = st.chi2_contingency(confusion_matrix, False)\n",
    "\n",
    "    n = confusion_matrix.sum().sum()\n",
    "    r = np.sqrt(x2/(n*(np.min(confusion_matrix.shape)-1)))\n",
    "\n",
    "    return r"
   ]
  },
  {
   "cell_type": "code",
   "execution_count": 11,
   "metadata": {},
   "outputs": [],
   "source": [
    "def cramers_v(col1: str, col2: str, df: pd.DataFrame) -> float:\n",
    "    x = df[col1]\n",
    "    y = df[col2]\n",
    "    confusion_matrix = pd.crosstab(x,y)\n",
    "    chi2 = st.chi2_contingency(confusion_matrix)[0]\n",
    "    n = confusion_matrix.sum().sum()\n",
    "    phi2 = chi2/n\n",
    "    r,k = confusion_matrix.shape\n",
    "    phi2corr = max(0, phi2-((k-1)*(r-1))/(n-1))\n",
    "    rcorr = r-((r-1)**2)/(n-1)\n",
    "    kcorr = k-((k-1)**2)/(n-1)\n",
    "    return np.sqrt(phi2corr/min((kcorr-1),(rcorr-1)))"
   ]
  },
  {
   "cell_type": "code",
   "execution_count": 12,
   "metadata": {},
   "outputs": [
    {
     "output_type": "stream",
     "name": "stdout",
     "text": [
      "0.11111234624561267\n"
     ]
    },
    {
     "output_type": "execute_result",
     "data": {
      "text/plain": [
       "0.07807535108767247"
      ]
     },
     "metadata": {},
     "execution_count": 12
    }
   ],
   "source": [
    "print(cramerV(\"Generation\", \"Legendary\", df))\n",
    "cramers_v(\"Generation\", \"Legendary\", df)"
   ]
  },
  {
   "cell_type": "code",
   "execution_count": 13,
   "metadata": {},
   "outputs": [
    {
     "output_type": "execute_result",
     "data": {
      "text/plain": [
       "0.34628835219141385"
      ]
     },
     "metadata": {},
     "execution_count": 13
    }
   ],
   "source": [
    "cramerV(\"Generation\", \"Type 2\", df)"
   ]
  },
  {
   "cell_type": "code",
   "execution_count": 14,
   "metadata": {},
   "outputs": [],
   "source": [
    "results = []\n",
    "cols = [\"Generation\", \"Type 1\", \"Type 2\", \"Legendary\"]\n",
    "for col1 in cols:\n",
    "    result = []\n",
    "    for col2 in cols:\n",
    "        r = cramerV(col1, col2, df)\n",
    "        result.append(r)\n",
    "    results.append(result)\n",
    "result_df = pd.DataFrame(results, index=cols, columns=cols)"
   ]
  },
  {
   "cell_type": "code",
   "execution_count": 15,
   "metadata": {},
   "outputs": [
    {
     "output_type": "execute_result",
     "data": {
      "text/plain": [
       "            Generation    Type 1    Type 2  Legendary\n",
       "Generation    1.000000  0.214855  0.346288   0.111112\n",
       "Type 1        0.214855  1.000000  0.313410   0.336193\n",
       "Type 2        0.346288  0.313410  1.000000   0.243339\n",
       "Legendary     0.111112  0.336193  0.243339   1.000000"
      ],
      "text/html": "<div>\n<style scoped>\n    .dataframe tbody tr th:only-of-type {\n        vertical-align: middle;\n    }\n\n    .dataframe tbody tr th {\n        vertical-align: top;\n    }\n\n    .dataframe thead th {\n        text-align: right;\n    }\n</style>\n<table border=\"1\" class=\"dataframe\">\n  <thead>\n    <tr style=\"text-align: right;\">\n      <th></th>\n      <th>Generation</th>\n      <th>Type 1</th>\n      <th>Type 2</th>\n      <th>Legendary</th>\n    </tr>\n  </thead>\n  <tbody>\n    <tr>\n      <th>Generation</th>\n      <td>1.000000</td>\n      <td>0.214855</td>\n      <td>0.346288</td>\n      <td>0.111112</td>\n    </tr>\n    <tr>\n      <th>Type 1</th>\n      <td>0.214855</td>\n      <td>1.000000</td>\n      <td>0.313410</td>\n      <td>0.336193</td>\n    </tr>\n    <tr>\n      <th>Type 2</th>\n      <td>0.346288</td>\n      <td>0.313410</td>\n      <td>1.000000</td>\n      <td>0.243339</td>\n    </tr>\n    <tr>\n      <th>Legendary</th>\n      <td>0.111112</td>\n      <td>0.336193</td>\n      <td>0.243339</td>\n      <td>1.000000</td>\n    </tr>\n  </tbody>\n</table>\n</div>"
     },
     "metadata": {},
     "execution_count": 15
    }
   ],
   "source": [
    "result_df"
   ]
  },
  {
   "cell_type": "code",
   "execution_count": 16,
   "metadata": {},
   "outputs": [],
   "source": [
    "results = []\n",
    "cols = [\"Generation\", \"Type 1\", \"Type 2\", \"Legendary\"]\n",
    "for col1 in cols:\n",
    "    result = []\n",
    "    for col2 in cols:\n",
    "        r = cramers_v(col1, col2, df)\n",
    "        result.append(r)\n",
    "    results.append(result)\n",
    "result_df = pd.DataFrame(results, index=cols, columns=cols)"
   ]
  },
  {
   "cell_type": "code",
   "execution_count": 17,
   "metadata": {},
   "outputs": [
    {
     "output_type": "execute_result",
     "data": {
      "text/plain": [
       "            Generation    Type 1    Type 2  Legendary\n",
       "Generation    1.000000  0.158249  0.282345   0.078075\n",
       "Type 1        0.158249  1.000000  0.243953   0.303091\n",
       "Type 2        0.282345  0.243953  1.000000   0.134519\n",
       "Legendary     0.078075  0.303091  0.134519   0.991617"
      ],
      "text/html": "<div>\n<style scoped>\n    .dataframe tbody tr th:only-of-type {\n        vertical-align: middle;\n    }\n\n    .dataframe tbody tr th {\n        vertical-align: top;\n    }\n\n    .dataframe thead th {\n        text-align: right;\n    }\n</style>\n<table border=\"1\" class=\"dataframe\">\n  <thead>\n    <tr style=\"text-align: right;\">\n      <th></th>\n      <th>Generation</th>\n      <th>Type 1</th>\n      <th>Type 2</th>\n      <th>Legendary</th>\n    </tr>\n  </thead>\n  <tbody>\n    <tr>\n      <th>Generation</th>\n      <td>1.000000</td>\n      <td>0.158249</td>\n      <td>0.282345</td>\n      <td>0.078075</td>\n    </tr>\n    <tr>\n      <th>Type 1</th>\n      <td>0.158249</td>\n      <td>1.000000</td>\n      <td>0.243953</td>\n      <td>0.303091</td>\n    </tr>\n    <tr>\n      <th>Type 2</th>\n      <td>0.282345</td>\n      <td>0.243953</td>\n      <td>1.000000</td>\n      <td>0.134519</td>\n    </tr>\n    <tr>\n      <th>Legendary</th>\n      <td>0.078075</td>\n      <td>0.303091</td>\n      <td>0.134519</td>\n      <td>0.991617</td>\n    </tr>\n  </tbody>\n</table>\n</div>"
     },
     "metadata": {},
     "execution_count": 17
    }
   ],
   "source": [
    "result_df"
   ]
  },
  {
   "cell_type": "code",
   "execution_count": null,
   "metadata": {},
   "outputs": [],
   "source": []
  }
 ]
}